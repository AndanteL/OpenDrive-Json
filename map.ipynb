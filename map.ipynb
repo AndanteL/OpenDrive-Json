{
 "cells": [
  {
   "cell_type": "code",
   "execution_count": 2,
   "id": "initial_id",
   "metadata": {
    "collapsed": true,
    "ExecuteTime": {
     "end_time": "2023-11-30T15:30:23.173589Z",
     "start_time": "2023-11-30T15:30:23.162689Z"
    }
   },
   "outputs": [],
   "source": [
    "import xmltodict\n",
    "import json"
   ]
  },
  {
   "cell_type": "code",
   "execution_count": 3,
   "outputs": [],
   "source": [
    "#可自行更换open内的文件路径\n",
    "data = xmltodict.parse(open(\"./Odr/IDmap_001.xodr\").read())"
   ],
   "metadata": {
    "collapsed": false,
    "ExecuteTime": {
     "end_time": "2023-11-30T15:30:23.181499Z",
     "start_time": "2023-11-30T15:30:23.176502Z"
    }
   },
   "id": "949e90dc85923dd"
  },
  {
   "cell_type": "code",
   "execution_count": 4,
   "outputs": [
    {
     "data": {
      "text/plain": "dict"
     },
     "execution_count": 4,
     "metadata": {},
     "output_type": "execute_result"
    }
   ],
   "source": [
    "type(data)"
   ],
   "metadata": {
    "collapsed": false,
    "ExecuteTime": {
     "end_time": "2023-11-30T15:30:23.190950Z",
     "start_time": "2023-11-30T15:30:23.185467Z"
    }
   },
   "id": "b28dea5972061298"
  },
  {
   "cell_type": "code",
   "execution_count": 5,
   "outputs": [],
   "source": [
    "json_data = json.dumps(data,indent=2)\n",
    "with open(\"map.json\", \"w\") as file:\n",
    "    file.write(json_data)"
   ],
   "metadata": {
    "collapsed": false,
    "ExecuteTime": {
     "end_time": "2023-11-30T15:30:23.195767Z",
     "start_time": "2023-11-30T15:30:23.193420Z"
    }
   },
   "id": "880f2bd03fd54924"
  }
 ],
 "metadata": {
  "kernelspec": {
   "display_name": "Python 3",
   "language": "python",
   "name": "python3"
  },
  "language_info": {
   "codemirror_mode": {
    "name": "ipython",
    "version": 2
   },
   "file_extension": ".py",
   "mimetype": "text/x-python",
   "name": "python",
   "nbconvert_exporter": "python",
   "pygments_lexer": "ipython2",
   "version": "2.7.6"
  }
 },
 "nbformat": 4,
 "nbformat_minor": 5
}
